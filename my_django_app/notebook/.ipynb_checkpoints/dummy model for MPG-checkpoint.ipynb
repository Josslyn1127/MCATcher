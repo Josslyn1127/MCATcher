{
 "cells": [
  {
   "cell_type": "code",
   "execution_count": 1,
   "metadata": {},
   "outputs": [],
   "source": [
    "import pandas as pd\n",
    "import numpy as np\n",
    "from sklearn import pipeline,preprocessing,metrics,model_selection,ensemble, impute\n",
    "from sklearn_pandas import DataFrameMapper"
   ]
  },
  {
   "cell_type": "code",
   "execution_count": 11,
   "metadata": {},
   "outputs": [],
   "source": [
    "data=pd.read_csv('mpg_data_example.csv')"
   ]
  },
  {
   "cell_type": "code",
   "execution_count": 12,
   "metadata": {},
   "outputs": [
    {
     "data": {
      "text/html": [
       "<div>\n",
       "<style scoped>\n",
       "    .dataframe tbody tr th:only-of-type {\n",
       "        vertical-align: middle;\n",
       "    }\n",
       "\n",
       "    .dataframe tbody tr th {\n",
       "        vertical-align: top;\n",
       "    }\n",
       "\n",
       "    .dataframe thead th {\n",
       "        text-align: right;\n",
       "    }\n",
       "</style>\n",
       "<table border=\"1\" class=\"dataframe\">\n",
       "  <thead>\n",
       "    <tr style=\"text-align: right;\">\n",
       "      <th></th>\n",
       "      <th>mpg</th>\n",
       "      <th>cylinders</th>\n",
       "      <th>displacement</th>\n",
       "      <th>horsepower</th>\n",
       "      <th>weight</th>\n",
       "      <th>acceleration</th>\n",
       "      <th>model year</th>\n",
       "      <th>origin</th>\n",
       "      <th>car name</th>\n",
       "    </tr>\n",
       "  </thead>\n",
       "  <tbody>\n",
       "    <tr>\n",
       "      <th>0</th>\n",
       "      <td>18.0</td>\n",
       "      <td>8</td>\n",
       "      <td>307.0</td>\n",
       "      <td>130.0</td>\n",
       "      <td>3504</td>\n",
       "      <td>12.0</td>\n",
       "      <td>70</td>\n",
       "      <td>1</td>\n",
       "      <td>chevrolet chevelle malibu</td>\n",
       "    </tr>\n",
       "    <tr>\n",
       "      <th>1</th>\n",
       "      <td>15.0</td>\n",
       "      <td>8</td>\n",
       "      <td>350.0</td>\n",
       "      <td>165.0</td>\n",
       "      <td>3693</td>\n",
       "      <td>11.5</td>\n",
       "      <td>70</td>\n",
       "      <td>1</td>\n",
       "      <td>buick skylark 320</td>\n",
       "    </tr>\n",
       "    <tr>\n",
       "      <th>2</th>\n",
       "      <td>18.0</td>\n",
       "      <td>8</td>\n",
       "      <td>318.0</td>\n",
       "      <td>150.0</td>\n",
       "      <td>3436</td>\n",
       "      <td>11.0</td>\n",
       "      <td>70</td>\n",
       "      <td>1</td>\n",
       "      <td>plymouth satellite</td>\n",
       "    </tr>\n",
       "    <tr>\n",
       "      <th>3</th>\n",
       "      <td>16.0</td>\n",
       "      <td>8</td>\n",
       "      <td>304.0</td>\n",
       "      <td>150.0</td>\n",
       "      <td>3433</td>\n",
       "      <td>12.0</td>\n",
       "      <td>70</td>\n",
       "      <td>1</td>\n",
       "      <td>amc rebel sst</td>\n",
       "    </tr>\n",
       "    <tr>\n",
       "      <th>4</th>\n",
       "      <td>17.0</td>\n",
       "      <td>8</td>\n",
       "      <td>302.0</td>\n",
       "      <td>140.0</td>\n",
       "      <td>3449</td>\n",
       "      <td>10.5</td>\n",
       "      <td>70</td>\n",
       "      <td>1</td>\n",
       "      <td>ford torino</td>\n",
       "    </tr>\n",
       "  </tbody>\n",
       "</table>\n",
       "</div>"
      ],
      "text/plain": [
       "    mpg  cylinders  displacement  horsepower  weight  acceleration  \\\n",
       "0  18.0          8         307.0       130.0    3504          12.0   \n",
       "1  15.0          8         350.0       165.0    3693          11.5   \n",
       "2  18.0          8         318.0       150.0    3436          11.0   \n",
       "3  16.0          8         304.0       150.0    3433          12.0   \n",
       "4  17.0          8         302.0       140.0    3449          10.5   \n",
       "\n",
       "   model year  origin                   car name  \n",
       "0          70       1  chevrolet chevelle malibu  \n",
       "1          70       1          buick skylark 320  \n",
       "2          70       1         plymouth satellite  \n",
       "3          70       1              amc rebel sst  \n",
       "4          70       1                ford torino  "
      ]
     },
     "execution_count": 12,
     "metadata": {},
     "output_type": "execute_result"
    }
   ],
   "source": [
    "data.head()"
   ]
  },
  {
   "cell_type": "code",
   "execution_count": 13,
   "metadata": {},
   "outputs": [
    {
     "data": {
      "text/plain": [
       "mpg             0\n",
       "cylinders       0\n",
       "displacement    0\n",
       "horsepower      6\n",
       "weight          0\n",
       "acceleration    0\n",
       "model year      0\n",
       "origin          0\n",
       "car name        0\n",
       "dtype: int64"
      ]
     },
     "execution_count": 13,
     "metadata": {},
     "output_type": "execute_result"
    }
   ],
   "source": [
    "data.isnull().sum()"
   ]
  },
  {
   "cell_type": "code",
   "execution_count": 14,
   "metadata": {},
   "outputs": [],
   "source": [
    "mapper = DataFrameMapper([\n",
    "                        (['cylinders','displacement','weight','acceleration','model year'], preprocessing.StandardScaler()),\n",
    "                        (['horsepower'],impute.SimpleImputer()),\n",
    "                        (['origin'], preprocessing.OneHotEncoder())\n",
    "])"
   ]
  },
  {
   "cell_type": "code",
   "execution_count": 15,
   "metadata": {},
   "outputs": [],
   "source": [
    "pipeline_obj = pipeline.Pipeline([\n",
    "    ('mapper',mapper),\n",
    "    (\"model\", ensemble.RandomForestRegressor())\n",
    "])"
   ]
  },
  {
   "cell_type": "code",
   "execution_count": 16,
   "metadata": {},
   "outputs": [
    {
     "data": {
      "text/plain": [
       "Index(['mpg', 'cylinders', 'displacement', 'horsepower', 'weight',\n",
       "       'acceleration', 'model year', 'origin', 'car name'],\n",
       "      dtype='object')"
      ]
     },
     "execution_count": 16,
     "metadata": {},
     "output_type": "execute_result"
    }
   ],
   "source": [
    "data.columns"
   ]
  },
  {
   "cell_type": "code",
   "execution_count": 17,
   "metadata": {},
   "outputs": [],
   "source": [
    "X=['cylinders', 'displacement', 'horsepower', 'weight',\n",
    "       'acceleration', 'model year', 'origin']\n",
    "Y=['mpg']"
   ]
  },
  {
   "cell_type": "code",
   "execution_count": 18,
   "metadata": {},
   "outputs": [
    {
     "name": "stderr",
     "output_type": "stream",
     "text": [
      "C:\\Users\\13476\\AppData\\Local\\Continuum\\anaconda3\\lib\\site-packages\\sklearn\\pipeline.py:346: DataConversionWarning: A column-vector y was passed when a 1d array was expected. Please change the shape of y to (n_samples,), for example using ravel().\n",
      "  self._final_estimator.fit(Xt, y, **fit_params_last_step)\n"
     ]
    },
    {
     "data": {
      "text/plain": [
       "Pipeline(steps=[('mapper',\n",
       "                 DataFrameMapper(drop_cols=[],\n",
       "                                 features=[(['cylinders', 'displacement',\n",
       "                                             'weight', 'acceleration',\n",
       "                                             'model year'],\n",
       "                                            StandardScaler()),\n",
       "                                           (['horsepower'], SimpleImputer()),\n",
       "                                           (['origin'], OneHotEncoder())])),\n",
       "                ('model', RandomForestRegressor())])"
      ]
     },
     "execution_count": 18,
     "metadata": {},
     "output_type": "execute_result"
    }
   ],
   "source": [
    "pipeline_obj.fit(data[X],data[Y])"
   ]
  },
  {
   "cell_type": "code",
   "execution_count": 19,
   "metadata": {},
   "outputs": [
    {
     "data": {
      "text/plain": [
       "array([17.418, 14.875, 17.17 , 16.341, 16.976, 14.64 , 13.97 , 14.13 ,\n",
       "       13.45 , 14.795, 14.925, 14.52 , 15.025, 14.621, 23.944, 21.543,\n",
       "       19.51 , 20.997, 26.93 , 27.045, 24.52 , 24.48 , 24.705, 25.052,\n",
       "       20.83 , 10.65 , 11.08 , 11.55 ,  9.91 , 26.97 , 26.346, 24.96 ,\n",
       "       25.46 , 19.374, 16.896, 17.68 , 18.73 , 18.14 , 13.9  , 13.59 ,\n",
       "       14.035, 14.315, 12.13 , 12.97 , 12.67 , 18.561, 22.12 , 18.76 ,\n",
       "       18.395, 23.77 , 26.82 , 29.625, 29.1  , 31.48 , 33.49 , 27.575,\n",
       "       27.1  , 24.526, 25.36 , 23.485, 20.55 , 22.38 , 13.275, 13.605,\n",
       "       14.53 , 13.985, 16.37 , 11.925, 12.82 , 12.35 , 13.01 , 20.402,\n",
       "       14.98 , 13.535, 13.545, 14.11 , 18.89 , 22.78 , 20.886, 26.115,\n",
       "       22.638, 26.262, 23.03 , 27.075, 26.905, 13.195, 14.93 , 13.735,\n",
       "       14.24 , 14.835, 11.96 , 13.215, 13.22 , 14.105, 12.49 , 12.04 ,\n",
       "       13.41 , 18.579, 16.32 , 18.362, 18.015, 22.047, 26.39 , 11.49 ,\n",
       "       12.18 , 12.795, 12.365, 18.35 , 22.025, 21.435, 22.86 , 22.09 ,\n",
       "       20.175, 21.369, 26.01 , 14.635, 15.225, 29.331, 25.   , 22.042,\n",
       "       19.414, 15.272, 23.208, 19.981, 12.825, 20.304, 20.578, 19.187,\n",
       "       16.385, 31.105, 25.243, 31.655, 24.881, 16.27 , 16.135, 17.737,\n",
       "       15.27 , 13.31 , 14.09 , 13.88 , 14.26 , 27.905, 27.7  , 26.179,\n",
       "       31.575, 31.76 , 27.065, 25.89 , 25.624, 23.973, 25.485, 30.23 ,\n",
       "       19.338, 17.667, 15.65 , 16.16 , 15.22 , 14.815, 15.364, 14.265,\n",
       "       16.88 , 16.075, 15.583, 17.509, 20.503, 19.63 , 15.05 , 28.39 ,\n",
       "       23.777, 19.788, 22.838, 23.995, 25.89 , 23.931, 19.388, 28.795,\n",
       "       18.951, 23.401, 22.309, 21.789, 24.005, 32.571, 26.368, 25.298,\n",
       "       24.986, 25.92 , 27.325, 16.485, 15.504, 16.157, 14.82 , 21.465,\n",
       "       20.791, 22.69 , 21.313, 29.164, 25.906, 28.89 , 32.531, 19.499,\n",
       "       18.027, 18.282, 18.212, 29.321, 31.98 , 27.985, 25.882, 20.242,\n",
       "       13.564, 19.991, 19.443, 17.142, 15.29 , 13.895, 14.12 , 13.805,\n",
       "       31.382, 29.514, 33.725, 25.387, 32.934, 16.488, 17.004, 15.565,\n",
       "       15.404, 17.812, 20.265, 19.13 , 18.154, 15.815, 15.61 , 15.713,\n",
       "       15.743, 29.87 , 24.654, 26.076, 25.003, 30.674, 31.565, 30.796,\n",
       "       29.886, 21.651, 22.816, 21.802, 39.489, 35.154, 34.559, 36.64 ,\n",
       "       35.044, 19.722, 18.968, 19.628, 19.064, 20.236, 20.55 , 25.218,\n",
       "       20.191, 19.704, 20.543, 20.778, 18.747, 18.851, 18.86 , 18.107,\n",
       "       18.702, 17.086, 30.352, 25.945, 26.595, 29.598, 22.689, 23.387,\n",
       "       23.258, 24.251, 21.271, 17.972, 22.149, 17.241, 32.037, 30.536,\n",
       "       21.311, 20.91 , 23.666, 20.397, 20.602, 17.413, 17.992, 17.515,\n",
       "       17.901, 16.633, 16.172, 19.538, 17.943, 33.85 , 34.624, 35.375,\n",
       "       28.27 , 24.741, 21.309, 27.908, 22.235, 34.568, 34.247, 33.605,\n",
       "       36.438, 28.004, 27.234, 26.008, 31.478, 38.586, 37.823, 32.964,\n",
       "       36.601, 27.969, 25.761, 25.038, 20.489, 34.699, 29.948, 31.466,\n",
       "       34.812, 32.9  , 43.779, 26.997, 41.099, 42.948, 40.518, 33.585,\n",
       "       30.582, 41.274, 38.739, 35.668, 33.146, 28.711, 27.382, 33.64 ,\n",
       "       24.212, 32.684, 28.595, 27.045, 26.27 , 24.453, 31.46 , 38.018,\n",
       "       38.4  , 36.411, 33.59 , 36.624, 37.105, 33.916, 35.074, 35.104,\n",
       "       32.038, 33.492, 33.765, 33.919, 32.693, 31.556, 31.286, 28.189,\n",
       "       29.268, 25.689, 25.08 , 21.917, 23.989, 21.698, 21.347, 28.395,\n",
       "       27.888, 33.231, 29.914, 29.397, 27.063, 25.045, 24.187, 35.352,\n",
       "       36.405, 32.675, 37.466, 35.421, 36.091, 35.43 , 33.73 , 36.301,\n",
       "       33.372, 36.158, 24.975, 29.964, 26.682, 23.297, 30.876, 34.311,\n",
       "       26.164, 27.133, 42.267, 32.355, 28.438, 29.873])"
      ]
     },
     "execution_count": 19,
     "metadata": {},
     "output_type": "execute_result"
    }
   ],
   "source": [
    "pipeline_obj.predict(data[X])"
   ]
  },
  {
   "cell_type": "code",
   "execution_count": 20,
   "metadata": {},
   "outputs": [],
   "source": [
    "import joblib"
   ]
  },
  {
   "cell_type": "code",
   "execution_count": 21,
   "metadata": {},
   "outputs": [
    {
     "data": {
      "text/plain": [
       "['RFModelforMPG.pkl']"
      ]
     },
     "execution_count": 21,
     "metadata": {},
     "output_type": "execute_result"
    }
   ],
   "source": [
    "joblib.dump(pipeline_obj,'RFModelforMPG.pkl')"
   ]
  },
  {
   "cell_type": "code",
   "execution_count": 22,
   "metadata": {},
   "outputs": [],
   "source": [
    "modelReload=joblib.load('RFModelforMPG.pkl')"
   ]
  },
  {
   "cell_type": "code",
   "execution_count": 23,
   "metadata": {},
   "outputs": [
    {
     "data": {
      "text/plain": [
       "array([17.418, 14.875, 17.17 , 16.341, 16.976, 14.64 , 13.97 , 14.13 ,\n",
       "       13.45 , 14.795, 14.925, 14.52 , 15.025, 14.621, 23.944, 21.543,\n",
       "       19.51 , 20.997, 26.93 , 27.045, 24.52 , 24.48 , 24.705, 25.052,\n",
       "       20.83 , 10.65 , 11.08 , 11.55 ,  9.91 , 26.97 , 26.346, 24.96 ,\n",
       "       25.46 , 19.374, 16.896, 17.68 , 18.73 , 18.14 , 13.9  , 13.59 ,\n",
       "       14.035, 14.315, 12.13 , 12.97 , 12.67 , 18.561, 22.12 , 18.76 ,\n",
       "       18.395, 23.77 , 26.82 , 29.625, 29.1  , 31.48 , 33.49 , 27.575,\n",
       "       27.1  , 24.526, 25.36 , 23.485, 20.55 , 22.38 , 13.275, 13.605,\n",
       "       14.53 , 13.985, 16.37 , 11.925, 12.82 , 12.35 , 13.01 , 20.402,\n",
       "       14.98 , 13.535, 13.545, 14.11 , 18.89 , 22.78 , 20.886, 26.115,\n",
       "       22.638, 26.262, 23.03 , 27.075, 26.905, 13.195, 14.93 , 13.735,\n",
       "       14.24 , 14.835, 11.96 , 13.215, 13.22 , 14.105, 12.49 , 12.04 ,\n",
       "       13.41 , 18.579, 16.32 , 18.362, 18.015, 22.047, 26.39 , 11.49 ,\n",
       "       12.18 , 12.795, 12.365, 18.35 , 22.025, 21.435, 22.86 , 22.09 ,\n",
       "       20.175, 21.369, 26.01 , 14.635, 15.225, 29.331, 25.   , 22.042,\n",
       "       19.414, 15.272, 23.208, 19.981, 12.825, 20.304, 20.578, 19.187,\n",
       "       16.385, 31.105, 25.243, 31.655, 24.881, 16.27 , 16.135, 17.737,\n",
       "       15.27 , 13.31 , 14.09 , 13.88 , 14.26 , 27.905, 27.7  , 26.179,\n",
       "       31.575, 31.76 , 27.065, 25.89 , 25.624, 23.973, 25.485, 30.23 ,\n",
       "       19.338, 17.667, 15.65 , 16.16 , 15.22 , 14.815, 15.364, 14.265,\n",
       "       16.88 , 16.075, 15.583, 17.509, 20.503, 19.63 , 15.05 , 28.39 ,\n",
       "       23.777, 19.788, 22.838, 23.995, 25.89 , 23.931, 19.388, 28.795,\n",
       "       18.951, 23.401, 22.309, 21.789, 24.005, 32.571, 26.368, 25.298,\n",
       "       24.986, 25.92 , 27.325, 16.485, 15.504, 16.157, 14.82 , 21.465,\n",
       "       20.791, 22.69 , 21.313, 29.164, 25.906, 28.89 , 32.531, 19.499,\n",
       "       18.027, 18.282, 18.212, 29.321, 31.98 , 27.985, 25.882, 20.242,\n",
       "       13.564, 19.991, 19.443, 17.142, 15.29 , 13.895, 14.12 , 13.805,\n",
       "       31.382, 29.514, 33.725, 25.387, 32.934, 16.488, 17.004, 15.565,\n",
       "       15.404, 17.812, 20.265, 19.13 , 18.154, 15.815, 15.61 , 15.713,\n",
       "       15.743, 29.87 , 24.654, 26.076, 25.003, 30.674, 31.565, 30.796,\n",
       "       29.886, 21.651, 22.816, 21.802, 39.489, 35.154, 34.559, 36.64 ,\n",
       "       35.044, 19.722, 18.968, 19.628, 19.064, 20.236, 20.55 , 25.218,\n",
       "       20.191, 19.704, 20.543, 20.778, 18.747, 18.851, 18.86 , 18.107,\n",
       "       18.702, 17.086, 30.352, 25.945, 26.595, 29.598, 22.689, 23.387,\n",
       "       23.258, 24.251, 21.271, 17.972, 22.149, 17.241, 32.037, 30.536,\n",
       "       21.311, 20.91 , 23.666, 20.397, 20.602, 17.413, 17.992, 17.515,\n",
       "       17.901, 16.633, 16.172, 19.538, 17.943, 33.85 , 34.624, 35.375,\n",
       "       28.27 , 24.741, 21.309, 27.908, 22.235, 34.568, 34.247, 33.605,\n",
       "       36.438, 28.004, 27.234, 26.008, 31.478, 38.586, 37.823, 32.964,\n",
       "       36.601, 27.969, 25.761, 25.038, 20.489, 34.699, 29.948, 31.466,\n",
       "       34.812, 32.9  , 43.779, 26.997, 41.099, 42.948, 40.518, 33.585,\n",
       "       30.582, 41.274, 38.739, 35.668, 33.146, 28.711, 27.382, 33.64 ,\n",
       "       24.212, 32.684, 28.595, 27.045, 26.27 , 24.453, 31.46 , 38.018,\n",
       "       38.4  , 36.411, 33.59 , 36.624, 37.105, 33.916, 35.074, 35.104,\n",
       "       32.038, 33.492, 33.765, 33.919, 32.693, 31.556, 31.286, 28.189,\n",
       "       29.268, 25.689, 25.08 , 21.917, 23.989, 21.698, 21.347, 28.395,\n",
       "       27.888, 33.231, 29.914, 29.397, 27.063, 25.045, 24.187, 35.352,\n",
       "       36.405, 32.675, 37.466, 35.421, 36.091, 35.43 , 33.73 , 36.301,\n",
       "       33.372, 36.158, 24.975, 29.964, 26.682, 23.297, 30.876, 34.311,\n",
       "       26.164, 27.133, 42.267, 32.355, 28.438, 29.873])"
      ]
     },
     "execution_count": 23,
     "metadata": {},
     "output_type": "execute_result"
    }
   ],
   "source": [
    "modelReload.predict(data[X])"
   ]
  },
  {
   "cell_type": "code",
   "execution_count": 24,
   "metadata": {},
   "outputs": [],
   "source": [
    "temp={}\n",
    "temp['cylinders']=1\n",
    "temp['displacement']=2\n",
    "temp['horsepower']=3\n",
    "temp['weight']=4\n",
    "temp['acceleration']=5\n",
    "temp['model year']=6\n",
    "temp['origin']=1"
   ]
  },
  {
   "cell_type": "code",
   "execution_count": 28,
   "metadata": {},
   "outputs": [],
   "source": [
    "testDtaa=pd.DataFrame({'x':temp}).transpose()"
   ]
  },
  {
   "cell_type": "code",
   "execution_count": 29,
   "metadata": {},
   "outputs": [
    {
     "data": {
      "text/html": [
       "<div>\n",
       "<style scoped>\n",
       "    .dataframe tbody tr th:only-of-type {\n",
       "        vertical-align: middle;\n",
       "    }\n",
       "\n",
       "    .dataframe tbody tr th {\n",
       "        vertical-align: top;\n",
       "    }\n",
       "\n",
       "    .dataframe thead th {\n",
       "        text-align: right;\n",
       "    }\n",
       "</style>\n",
       "<table border=\"1\" class=\"dataframe\">\n",
       "  <thead>\n",
       "    <tr style=\"text-align: right;\">\n",
       "      <th></th>\n",
       "      <th>acceleration</th>\n",
       "      <th>cylinders</th>\n",
       "      <th>displacement</th>\n",
       "      <th>horsepower</th>\n",
       "      <th>model year</th>\n",
       "      <th>origin</th>\n",
       "      <th>weight</th>\n",
       "    </tr>\n",
       "  </thead>\n",
       "  <tbody>\n",
       "    <tr>\n",
       "      <th>x</th>\n",
       "      <td>5</td>\n",
       "      <td>1</td>\n",
       "      <td>2</td>\n",
       "      <td>3</td>\n",
       "      <td>6</td>\n",
       "      <td>1</td>\n",
       "      <td>4</td>\n",
       "    </tr>\n",
       "  </tbody>\n",
       "</table>\n",
       "</div>"
      ],
      "text/plain": [
       "   acceleration  cylinders  displacement  horsepower  model year  origin  \\\n",
       "x             5          1             2           3           6       1   \n",
       "\n",
       "   weight  \n",
       "x       4  "
      ]
     },
     "execution_count": 29,
     "metadata": {},
     "output_type": "execute_result"
    }
   ],
   "source": [
    "testDtaa"
   ]
  },
  {
   "cell_type": "code",
   "execution_count": 32,
   "metadata": {},
   "outputs": [
    {
     "data": {
      "text/plain": [
       "29.447"
      ]
     },
     "execution_count": 32,
     "metadata": {},
     "output_type": "execute_result"
    }
   ],
   "source": [
    "modelReload.predict(testDtaa)[0]"
   ]
  },
  {
   "cell_type": "code",
   "execution_count": null,
   "metadata": {},
   "outputs": [],
   "source": []
  }
 ],
 "metadata": {
  "kernelspec": {
   "display_name": "Python 3",
   "language": "python",
   "name": "python3"
  },
  "language_info": {
   "codemirror_mode": {
    "name": "ipython",
    "version": 3
   },
   "file_extension": ".py",
   "mimetype": "text/x-python",
   "name": "python",
   "nbconvert_exporter": "python",
   "pygments_lexer": "ipython3",
   "version": "3.7.4"
  }
 },
 "nbformat": 4,
 "nbformat_minor": 2
}
